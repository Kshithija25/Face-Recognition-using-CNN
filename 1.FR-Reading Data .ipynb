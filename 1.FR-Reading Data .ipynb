{
 "cells": [
  {
   "cell_type": "code",
   "execution_count": 1,
   "metadata": {},
   "outputs": [],
   "source": [
    "import os # operating system\n",
    "import glob # find the path\n",
    "import pandas as pd\n",
    "import numpy as np\n",
    "import cv2\n",
    "from matplotlib import image\n",
    "import PIL\n",
    "import pickle\n",
    "import tensorflow\n",
    "import tensorflow.keras as k\n",
    "import pandas_ml\n",
    "import matplotlib.pyplot as plt\n",
    "%matplotlib inline"
   ]
  },
  {
   "cell_type": "code",
   "execution_count": 2,
   "metadata": {},
   "outputs": [
    {
     "data": {
      "text/plain": [
       "[' Facial Keypoint Recogntion.ipynb',\n",
       " '.ipynb_checkpoints',\n",
       " '01 - Statements Assessment - execrise.ipynb',\n",
       " '02 - Iterators and Generators execrise.ipynb',\n",
       " '02- variables, expresion and function - excerise.ipynb',\n",
       " '03 - Functions and Methods execrise.ipynb',\n",
       " '03 - Python Strings - Execrise.ipynb',\n",
       " '04 - Errors and Exceptions execrise.ipynb',\n",
       " '04 - List, Tuple - execrise.ipynb',\n",
       " '05 - Dictionary - execrise.ipynb',\n",
       " '05- If else, for loop .ipynb',\n",
       " '06 - Sets - exercise.ipynb',\n",
       " '1. EDA Cricket.ipynb',\n",
       " '1. Exploratory Data Analysis - Cricket.ipynb',\n",
       " '1. Logistic Regression-MT Cars.html',\n",
       " '1. Math Operation in images.ipynb',\n",
       " '1. Pandas DataFrames.ipynb',\n",
       " '1. Regression with Tensorflow - cars.ipynb',\n",
       " '1. Understanding Support Vector Machines.ipynb',\n",
       " '1.FR-Reading Data .ipynb',\n",
       " '1.Image Processing .ipynb',\n",
       " '1.ML_BAYES_TENNIS_CLASSROOM.ipynb',\n",
       " '1.Regression BigMacIndex.ipynb',\n",
       " '2.Data Preprocessing - Training without PCA.ipynb',\n",
       " '2.ii.MTcars Regression.ipynb',\n",
       " '2.Number Classification .ipynb',\n",
       " '2.Regression _MTcars.ipynb',\n",
       " '3.Feature Selection--Crudeoil.ipynb',\n",
       " '4.Days Storage .ipynb',\n",
       " '6.How to Overfit.ipynb',\n",
       " 'aboutdatascience.txt',\n",
       " 'bank-full.csv',\n",
       " 'bank-full.ipynb',\n",
       " 'banklist.csv',\n",
       " 'BigMacIndex Assignment.ipynb',\n",
       " 'BigMaxIndex.xlsx',\n",
       " 'BikeShare.csv',\n",
       " 'BMacI_R',\n",
       " 'C.ipynb',\n",
       " 'cars.csv',\n",
       " 'Challenge1.pdf',\n",
       " 'class -ks.ipynb',\n",
       " 'Classification of Roads.csv',\n",
       " 'crick.csv',\n",
       " 'Cricket.ipynb',\n",
       " 'CricketDataset.csv',\n",
       " 'CrudeOilOutput.csv',\n",
       " 'Data',\n",
       " 'Data Files',\n",
       " 'Data Preprocessing 2.ipynb',\n",
       " 'Data Preprocessing.ipynb',\n",
       " 'Data Science - Shortcut.lnk',\n",
       " 'Data.csv',\n",
       " 'Days Storage.csv',\n",
       " 'Descrptive Analysis.ipynb',\n",
       " 'df_company.csv',\n",
       " 'df_missing.csv',\n",
       " 'diabetes.csv',\n",
       " 'Dictionaries.ipynb',\n",
       " 'DS Project 1.key',\n",
       " 'DS Project 1.ppt',\n",
       " 'Error and Exception Handling.ipynb',\n",
       " 'Excel_Sample.xlsx',\n",
       " 'face_data',\n",
       " 'File Handling - input output.ipynb',\n",
       " 'firstgraph',\n",
       " 'FlierResponse.csv',\n",
       " 'For and While Loops.ipynb',\n",
       " 'framingham.csv',\n",
       " 'Functions.ipynb',\n",
       " 'g',\n",
       " 'gray.png',\n",
       " 'gray_bird.png',\n",
       " 'How to Overfit with Neural Network Sir.ipynb',\n",
       " 'How to Overfit with Neural Network.ipynb',\n",
       " 'Image Preprocessing.ipynb',\n",
       " 'image processing 2.ipynb',\n",
       " 'image processing.ipynb',\n",
       " 'image.jpg',\n",
       " 'image1.jpg',\n",
       " 'img_paris.jpg',\n",
       " 'IndiaFlag-Picture.jpg',\n",
       " 'Intro to Jupyter Notebook and Python.ipynb',\n",
       " 'iris.csv',\n",
       " 'IRL_TEMPLATE.pptx',\n",
       " 'Language Models.ipynb',\n",
       " 'languagemodels_assignment.pdf',\n",
       " 'LIST.ipynb',\n",
       " 'Logistic .ipynb',\n",
       " 'Logistic regression-CVD.ipynb',\n",
       " 'logistic regression.ipynb',\n",
       " 'Map , Reduce, Filters.ipynb',\n",
       " 'Mathematical Operations on Images.ipynb',\n",
       " 'ML_Bayes_Theorem.ipynb',\n",
       " 'Mobile Comparision.ipynb',\n",
       " 'Modules.ipynb',\n",
       " 'MTcars.xlsx',\n",
       " 'Multiple Regression Prac....ipynb',\n",
       " 'myfile.txt',\n",
       " 'N-grams Assignment.ipynb',\n",
       " 'Neural Network ( over-fitting )Abhinaya.ipynb',\n",
       " 'NLP N-Grams Practice.ipynb',\n",
       " 'NLP N-Grams.ipynb',\n",
       " 'Normalized_Data.csv',\n",
       " 'numbers.csv',\n",
       " 'number_model.pkl',\n",
       " 'number_o.txt',\n",
       " 'Numpy Exercise .ipynb',\n",
       " 'Numpy Exercise 1 (1).ipynb',\n",
       " 'Numpy.ipynb',\n",
       " 'P.ipynb',\n",
       " 'Panchayat Raj Department Roads.csv',\n",
       " 'PANDAS .ipynb',\n",
       " 'Pandas Exercises.ipynb',\n",
       " 'Pandas Operation.ipynb',\n",
       " 'Pandas.ipynb',\n",
       " 'Pandas_Practice.ipynb',\n",
       " 'PCA _names.ipynb',\n",
       " 'pca1.pkl',\n",
       " 'pipeline1',\n",
       " 'PlayerQuartiles.xlsx',\n",
       " 'PRACTICE.ipynb',\n",
       " 'PregnancyDuration.xlsx',\n",
       " 'Principle Component Analysis.ipynb',\n",
       " 'probability.py',\n",
       " 'PROJECT.ipynb',\n",
       " 'RE Exercise.txt',\n",
       " 'References',\n",
       " 'Regular Expressions.ipynb',\n",
       " 'Rohit-Virat.xlsx',\n",
       " 'sampletable.csv',\n",
       " 'scene.jpg',\n",
       " 'sets.ipynb',\n",
       " 'Statements - if and else.ipynb',\n",
       " 'string.ipynb',\n",
       " 'Support Vector Machines.ipynb',\n",
       " 't-table.pdf',\n",
       " 'TaTa Nano example.ipynb',\n",
       " 'temp.py',\n",
       " 'tennis.csv',\n",
       " 'Tensorflow basic Syntax.ipynb',\n",
       " 'Tensorflow Cars.ipynb',\n",
       " 'Tensorflow Practice.ipynb',\n",
       " 'test.jpg',\n",
       " 'Testing number classification Abhinaya.ipynb',\n",
       " 'training.csv',\n",
       " 'Training_Neural_Network_Kshithija.ipynb',\n",
       " 'transcript.txt',\n",
       " 'Tuples.ipynb',\n",
       " 'utils.py',\n",
       " 'w2_.txt',\n",
       " 'web p.ipynb',\n",
       " 'WebScraping Project M.ipynb',\n",
       " 'WebScraping Project.ipynb',\n",
       " 'wiki_crop.tar',\n",
       " 'wine.data',\n",
       " 'wine.names',\n",
       " 'Ztable.pdf',\n",
       " '__pycache__']"
      ]
     },
     "execution_count": 2,
     "metadata": {},
     "output_type": "execute_result"
    }
   ],
   "source": [
    "os.listdir()"
   ]
  },
  {
   "cell_type": "code",
   "execution_count": 3,
   "metadata": {},
   "outputs": [
    {
     "data": {
      "text/plain": [
       "['female', 'male']"
      ]
     },
     "execution_count": 3,
     "metadata": {},
     "output_type": "execute_result"
    }
   ],
   "source": [
    "os.listdir('./face_data')"
   ]
  },
  {
   "cell_type": "code",
   "execution_count": 4,
   "metadata": {},
   "outputs": [],
   "source": [
    "female =glob.glob('./face_data/female/*.png*')\n",
    "male =glob.glob('./face_data/male/*.png*')"
   ]
  },
  {
   "cell_type": "code",
   "execution_count": 5,
   "metadata": {},
   "outputs": [
    {
     "data": {
      "text/plain": [
       "['./face_data/female\\\\female_0.png',\n",
       " './face_data/female\\\\female_1.png',\n",
       " './face_data/female\\\\female_10.png',\n",
       " './face_data/female\\\\female_11.png',\n",
       " './face_data/female\\\\female_110.png',\n",
       " './face_data/female\\\\female_111.png',\n",
       " './face_data/female\\\\female_112.png',\n",
       " './face_data/female\\\\female_113.png',\n",
       " './face_data/female\\\\female_12.png',\n",
       " './face_data/female\\\\female_13.png',\n",
       " './face_data/female\\\\female_14.png',\n",
       " './face_data/female\\\\female_15.png',\n",
       " './face_data/female\\\\female_16.png',\n",
       " './face_data/female\\\\female_17.png',\n",
       " './face_data/female\\\\female_18.png',\n",
       " './face_data/female\\\\female_19.png',\n",
       " './face_data/female\\\\female_2.png',\n",
       " './face_data/female\\\\female_20.png',\n",
       " './face_data/female\\\\female_21.png',\n",
       " './face_data/female\\\\female_22.png',\n",
       " './face_data/female\\\\female_25.png',\n",
       " './face_data/female\\\\female_27.png',\n",
       " './face_data/female\\\\female_28.png',\n",
       " './face_data/female\\\\female_29.png',\n",
       " './face_data/female\\\\female_3.png',\n",
       " './face_data/female\\\\female_30.png',\n",
       " './face_data/female\\\\female_31.png',\n",
       " './face_data/female\\\\female_310.png',\n",
       " './face_data/female\\\\female_311.png',\n",
       " './face_data/female\\\\female_312.png',\n",
       " './face_data/female\\\\female_313.png',\n",
       " './face_data/female\\\\female_314.png',\n",
       " './face_data/female\\\\female_316.png',\n",
       " './face_data/female\\\\female_317.png',\n",
       " './face_data/female\\\\female_318.png',\n",
       " './face_data/female\\\\female_32.png',\n",
       " './face_data/female\\\\female_33.png',\n",
       " './face_data/female\\\\female_34.png',\n",
       " './face_data/female\\\\female_35.png',\n",
       " './face_data/female\\\\female_36.png',\n",
       " './face_data/female\\\\female_37.png',\n",
       " './face_data/female\\\\female_38.png',\n",
       " './face_data/female\\\\female_39.png',\n",
       " './face_data/female\\\\female_4.png',\n",
       " './face_data/female\\\\female_40.png',\n",
       " './face_data/female\\\\female_41.png',\n",
       " './face_data/female\\\\female_42.png',\n",
       " './face_data/female\\\\female_43.png',\n",
       " './face_data/female\\\\female_44.png',\n",
       " './face_data/female\\\\female_45.png',\n",
       " './face_data/female\\\\female_46.png',\n",
       " './face_data/female\\\\female_47.png',\n",
       " './face_data/female\\\\female_48.png',\n",
       " './face_data/female\\\\female_49.png',\n",
       " './face_data/female\\\\female_5.png',\n",
       " './face_data/female\\\\female_50.png',\n",
       " './face_data/female\\\\female_51.png',\n",
       " './face_data/female\\\\female_52.png',\n",
       " './face_data/female\\\\female_53.png',\n",
       " './face_data/female\\\\female_54.png',\n",
       " './face_data/female\\\\female_6.png',\n",
       " './face_data/female\\\\female_7.png',\n",
       " './face_data/female\\\\female_8.png',\n",
       " './face_data/female\\\\female_9.png']"
      ]
     },
     "execution_count": 5,
     "metadata": {},
     "output_type": "execute_result"
    }
   ],
   "source": [
    "female"
   ]
  },
  {
   "cell_type": "code",
   "execution_count": 6,
   "metadata": {},
   "outputs": [
    {
     "data": {
      "text/plain": [
       "list"
      ]
     },
     "execution_count": 6,
     "metadata": {},
     "output_type": "execute_result"
    }
   ],
   "source": [
    "type(female)"
   ]
  },
  {
   "cell_type": "code",
   "execution_count": 7,
   "metadata": {},
   "outputs": [],
   "source": [
    "img = cv2.imread(female[0],0)"
   ]
  },
  {
   "cell_type": "code",
   "execution_count": 8,
   "metadata": {},
   "outputs": [
    {
     "data": {
      "text/plain": [
       "array([[101, 101, 101, ...,  67,  73,  73],\n",
       "       [101, 101, 101, ...,  96,  76,  75],\n",
       "       [101, 101, 101, ..., 114,  91,  72],\n",
       "       ...,\n",
       "       [149, 149, 152, ...,   1,   1,   0],\n",
       "       [148, 149, 148, ...,   1,   1,   0],\n",
       "       [146, 147, 147, ...,   1,   1,   1]], dtype=uint8)"
      ]
     },
     "execution_count": 8,
     "metadata": {},
     "output_type": "execute_result"
    }
   ],
   "source": [
    "img"
   ]
  },
  {
   "cell_type": "code",
   "execution_count": 9,
   "metadata": {},
   "outputs": [
    {
     "data": {
      "text/plain": [
       "<matplotlib.image.AxesImage at 0x22214485c88>"
      ]
     },
     "execution_count": 9,
     "metadata": {},
     "output_type": "execute_result"
    },
    {
     "data": {
      "image/png": "[encoded data removed]",
      "text/plain": [
       "<Figure size 432x288 with 1 Axes>"
      ]
     },
     "metadata": {
      "needs_background": "light"
     },
     "output_type": "display_data"
    }
   ],
   "source": [
    "plt.imshow(img,cmap='gray')"
   ]
  },
  {
   "cell_type": "code",
   "execution_count": 10,
   "metadata": {},
   "outputs": [
    {
     "data": {
      "text/plain": [
       "(64, 64)"
      ]
     },
     "execution_count": 10,
     "metadata": {},
     "output_type": "execute_result"
    }
   ],
   "source": [
    "img.shape"
   ]
  },
  {
   "cell_type": "code",
   "execution_count": 11,
   "metadata": {},
   "outputs": [],
   "source": [
    "tensor = img.reshape(1,64,64)"
   ]
  },
  {
   "cell_type": "code",
   "execution_count": 12,
   "metadata": {},
   "outputs": [
    {
     "data": {
      "image/png": "[encoded data removed]",
      "text/plain": [
       "<Figure size 432x288 with 1 Axes>"
      ]
     },
     "metadata": {
      "needs_background": "light"
     },
     "output_type": "display_data"
    }
   ],
   "source": [
    "img1 = cv2.imread(female[1],0)\n",
    "plt.imshow(img1,cmap='gray')\n",
    "tensor1 = img1.reshape(1,64,64)"
   ]
  },
  {
   "cell_type": "code",
   "execution_count": 13,
   "metadata": {},
   "outputs": [
    {
     "data": {
      "text/plain": [
       "array([[ 91, 104,  86, ..., 223, 220, 229],\n",
       "       [ 93, 103, 106, ..., 160, 218, 225],\n",
       "       [109, 118, 154, ...,  47, 216, 228],\n",
       "       ...,\n",
       "       [ 27,  18,  17, ...,  23,  21,  18],\n",
       "       [ 25,  18,  17, ...,  22,  29,  26],\n",
       "       [ 23,  19,  18, ...,  19,  21,  28]], dtype=uint8)"
      ]
     },
     "execution_count": 13,
     "metadata": {},
     "output_type": "execute_result"
    }
   ],
   "source": [
    "img1"
   ]
  },
  {
   "cell_type": "code",
   "execution_count": 14,
   "metadata": {},
   "outputs": [],
   "source": [
    "from sklearn.decomposition import PCA"
   ]
  },
  {
   "cell_type": "code",
   "execution_count": 15,
   "metadata": {},
   "outputs": [],
   "source": [
    "pca = PCA(0.85)"
   ]
  },
  {
   "cell_type": "code",
   "execution_count": 16,
   "metadata": {},
   "outputs": [],
   "source": [
    "img_pca = pca.fit_transform(img1)"
   ]
  },
  {
   "cell_type": "code",
   "execution_count": 17,
   "metadata": {},
   "outputs": [
    {
     "data": {
      "text/plain": [
       "PCA(copy=True, iterated_power='auto', n_components=0.85, random_state=None,\n",
       "  svd_solver='auto', tol=0.0, whiten=False)"
      ]
     },
     "execution_count": 17,
     "metadata": {},
     "output_type": "execute_result"
    }
   ],
   "source": [
    "pca"
   ]
  },
  {
   "cell_type": "code",
   "execution_count": 18,
   "metadata": {},
   "outputs": [
    {
     "data": {
      "text/plain": [
       "array([0.31185634, 0.24822508, 0.15164152, 0.09040214, 0.05104434])"
      ]
     },
     "execution_count": 18,
     "metadata": {},
     "output_type": "execute_result"
    }
   ],
   "source": [
    "pca.explained_variance_ratio_"
   ]
  },
  {
   "cell_type": "code",
   "execution_count": 19,
   "metadata": {},
   "outputs": [
    {
     "data": {
      "text/plain": [
       "[<matplotlib.lines.Line2D at 0x222148e3fd0>]"
      ]
     },
     "execution_count": 19,
     "metadata": {},
     "output_type": "execute_result"
    },
    {
     "data": {
      "image/png": "[encoded data removed]",
      "text/plain": [
       "<Figure size 432x288 with 1 Axes>"
      ]
     },
     "metadata": {
      "needs_background": "light"
     },
     "output_type": "display_data"
    }
   ],
   "source": [
    "plt.plot(pca.explained_variance_ratio_,'r--*')"
   ]
  },
  {
   "cell_type": "code",
   "execution_count": 20,
   "metadata": {},
   "outputs": [],
   "source": [
    "img_in = pca.inverse_transform(img_pca)"
   ]
  },
  {
   "cell_type": "code",
   "execution_count": 21,
   "metadata": {},
   "outputs": [
    {
     "data": {
      "text/plain": [
       "<matplotlib.image.AxesImage at 0x222149573c8>"
      ]
     },
     "execution_count": 21,
     "metadata": {},
     "output_type": "execute_result"
    },
    {
     "data": {
      "image/png": "[encoded data removed]",
      "text/plain": [
       "<Figure size 432x288 with 1 Axes>"
      ]
     },
     "metadata": {
      "needs_background": "light"
     },
     "output_type": "display_data"
    }
   ],
   "source": [
    "relu = np.maximum(img_in,0)\n",
    "plt.imshow(img_in,cmap='gray')"
   ]
  },
  {
   "cell_type": "code",
   "execution_count": 22,
   "metadata": {},
   "outputs": [
    {
     "data": {
      "text/plain": [
       "5"
      ]
     },
     "execution_count": 22,
     "metadata": {},
     "output_type": "execute_result"
    }
   ],
   "source": [
    "pca.n_components_"
   ]
  },
  {
   "cell_type": "code",
   "execution_count": 23,
   "metadata": {},
   "outputs": [],
   "source": [
    "# ROC- talk about how good is ur model  AUC - "
   ]
  },
  {
   "cell_type": "code",
   "execution_count": 24,
   "metadata": {},
   "outputs": [
    {
     "data": {
      "text/plain": [
       "(2, 64, 64)"
      ]
     },
     "execution_count": 24,
     "metadata": {},
     "output_type": "execute_result"
    }
   ],
   "source": [
    "data = np.concatenate((tensor,tensor1),axis=0)\n",
    "data.shape"
   ]
  },
  {
   "cell_type": "code",
   "execution_count": 25,
   "metadata": {},
   "outputs": [],
   "source": [
    "# Getting Data\n",
    "def imread(path):\n",
    "    img = cv2.imread(path,0) # reading in gray scale\n",
    "    tensor = img.reshape(1,64,64)\n",
    "    return tensor"
   ]
  },
  {
   "cell_type": "code",
   "execution_count": 26,
   "metadata": {},
   "outputs": [],
   "source": [
    "# Getting Data\n",
    "pca = PCA(0.8)\n",
    "def imread_pca(path):\n",
    "    img = cv2.imread(path,0)\n",
    "    img = pca.fit_transform(img)\n",
    "    img = pca.inverse_transform(img)\n",
    "    img = np.maximum(img,0)\n",
    "    tensor = img.reshape(1,64,64)\n",
    "    return tensor"
   ]
  },
  {
   "cell_type": "code",
   "execution_count": 27,
   "metadata": {},
   "outputs": [],
   "source": [
    "for i,path in enumerate(female):\n",
    "    try:\n",
    "        tensor = imread(path)\n",
    "        xwf = np.concatenate((xwf,tensor),axis=0)\n",
    "    except:\n",
    "        xwf = tensor\n",
    "        \n",
    "for i,path in enumerate(male):\n",
    "    try:\n",
    "        tensor = imread(path)\n",
    "        xwm = np.concatenate((xwm,tensor),axis=0)\n",
    "    except:\n",
    "        xwm = tensor"
   ]
  },
  {
   "cell_type": "code",
   "execution_count": 28,
   "metadata": {},
   "outputs": [],
   "source": [
    "for i,path in enumerate(female):\n",
    "    try:\n",
    "        tensor = imread_pca(path)\n",
    "        xf = np.concatenate((xf,tensor),axis=0)\n",
    "    except:\n",
    "        xf = tensor\n",
    "        \n",
    "for i,path in enumerate(male):\n",
    "    try:\n",
    "        tensor = imread_pca(path)\n",
    "        xm = np.concatenate((xm,tensor),axis=0)\n",
    "    except:\n",
    "        xm = tensor"
   ]
  },
  {
   "cell_type": "code",
   "execution_count": 29,
   "metadata": {},
   "outputs": [
    {
     "data": {
      "text/plain": [
       "((64, 64, 64), (74, 64, 64))"
      ]
     },
     "execution_count": 29,
     "metadata": {},
     "output_type": "execute_result"
    }
   ],
   "source": [
    "xwf.shape,xwm.shape"
   ]
  },
  {
   "cell_type": "code",
   "execution_count": 30,
   "metadata": {},
   "outputs": [
    {
     "data": {
      "text/plain": [
       "((64, 64, 64), (74, 64, 64))"
      ]
     },
     "execution_count": 30,
     "metadata": {},
     "output_type": "execute_result"
    }
   ],
   "source": [
    "xf.shape, xm.shape"
   ]
  },
  {
   "cell_type": "code",
   "execution_count": 31,
   "metadata": {},
   "outputs": [
    {
     "data": {
      "text/plain": [
       "(138, 64, 64)"
      ]
     },
     "execution_count": 31,
     "metadata": {},
     "output_type": "execute_result"
    }
   ],
   "source": [
    "x = np.concatenate(((xm,xf)),axis=0)\n",
    "x.shape"
   ]
  },
  {
   "cell_type": "code",
   "execution_count": 32,
   "metadata": {},
   "outputs": [],
   "source": [
    "with open('./Imagedata.pkl','wb') as f:\n",
    "    pickle.dump(x,f)"
   ]
  },
  {
   "cell_type": "code",
   "execution_count": 33,
   "metadata": {},
   "outputs": [
    {
     "data": {
      "text/plain": [
       "(138, 64, 64)"
      ]
     },
     "execution_count": 33,
     "metadata": {},
     "output_type": "execute_result"
    }
   ],
   "source": [
    "xw = np.concatenate(((xwm,xwf)),axis=0)\n",
    "xw.shape"
   ]
  },
  {
   "cell_type": "code",
   "execution_count": 34,
   "metadata": {},
   "outputs": [],
   "source": [
    "# eigan face - type of feature extraction"
   ]
  },
  {
   "cell_type": "markdown",
   "metadata": {},
   "source": [
    "- **male =0**\n",
    "- **female =1**"
   ]
  },
  {
   "cell_type": "code",
   "execution_count": 35,
   "metadata": {},
   "outputs": [
    {
     "data": {
      "text/plain": [
       "(138,)"
      ]
     },
     "execution_count": 35,
     "metadata": {},
     "output_type": "execute_result"
    }
   ],
   "source": [
    "ym = np.zeros(len(male))\n",
    "yf = np.ones(len(female))\n",
    "y = np.concatenate((ym,yf))\n",
    "y.shape"
   ]
  },
  {
   "cell_type": "code",
   "execution_count": 36,
   "metadata": {},
   "outputs": [],
   "source": [
    "np.savez('data_without_pca.npz',xw,y) # save as zip file"
   ]
  },
  {
   "cell_type": "code",
   "execution_count": 37,
   "metadata": {},
   "outputs": [],
   "source": [
    "data = np.load('data_without_pca.npz')"
   ]
  },
  {
   "cell_type": "code",
   "execution_count": 38,
   "metadata": {},
   "outputs": [
    {
     "data": {
      "text/plain": [
       "['arr_0', 'arr_1']"
      ]
     },
     "execution_count": 38,
     "metadata": {},
     "output_type": "execute_result"
    }
   ],
   "source": [
    "data.files"
   ]
  },
  {
   "cell_type": "code",
   "execution_count": 39,
   "metadata": {},
   "outputs": [
    {
     "data": {
      "text/plain": [
       "(138, 64, 64)"
      ]
     },
     "execution_count": 39,
     "metadata": {},
     "output_type": "execute_result"
    }
   ],
   "source": [
    "data['arr_0'].shape"
   ]
  },
  {
   "cell_type": "markdown",
   "metadata": {},
   "source": [
    "### With PCA"
   ]
  },
  {
   "cell_type": "code",
   "execution_count": 40,
   "metadata": {},
   "outputs": [],
   "source": [
    "np.savez('data_with_pca.npz',x,y)"
   ]
  },
  {
   "cell_type": "code",
   "execution_count": 41,
   "metadata": {},
   "outputs": [],
   "source": [
    "datap = np.load('data_with_pca.npz')"
   ]
  },
  {
   "cell_type": "code",
   "execution_count": 42,
   "metadata": {},
   "outputs": [],
   "source": [
    "# here pca is to remove the noise"
   ]
  },
  {
   "cell_type": "code",
   "execution_count": 43,
   "metadata": {},
   "outputs": [
    {
     "data": {
      "text/plain": [
       "['arr_0', 'arr_1']"
      ]
     },
     "execution_count": 43,
     "metadata": {},
     "output_type": "execute_result"
    }
   ],
   "source": [
    "datap.files"
   ]
  },
  {
   "cell_type": "code",
   "execution_count": null,
   "metadata": {},
   "outputs": [],
   "source": []
  }
 ],
 "metadata": {
  "kernelspec": {
   "display_name": "Python 3",
   "language": "python",
   "name": "python3"
  },
  "language_info": {
   "codemirror_mode": {
    "name": "ipython",
    "version": 3
   },
   "file_extension": ".py",
   "mimetype": "text/x-python",
   "name": "python",
   "nbconvert_exporter": "python",
   "pygments_lexer": "ipython3",
   "version": "3.7.3"
  }
 },
 "nbformat": 4,
 "nbformat_minor": 2
}
